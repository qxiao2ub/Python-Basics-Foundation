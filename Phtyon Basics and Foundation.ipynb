{
  "nbformat": 4,
  "nbformat_minor": 0,
  "metadata": {
    "colab": {
      "provenance": []
    },
    "kernelspec": {
      "name": "python3",
      "display_name": "Python 3"
    },
    "language_info": {
      "name": "python"
    }
  },
  "cells": [
    {
      "cell_type": "markdown",
      "source": [
        "**WK2-DS Lab-060325**"
      ],
      "metadata": {
        "id": "OrY8yV5FEtTc"
      }
    },
    {
      "cell_type": "markdown",
      "source": [
        "This rather lenghty document is designed to give a broad overview of Python proramming language. Numerous examples are provided to help the students better understand useful and oddities of the Python language."
      ],
      "metadata": {
        "id": "da043Y2hE1h-"
      }
    },
    {
      "cell_type": "markdown",
      "source": [
        "1.1 Setting a decision variable"
      ],
      "metadata": {
        "id": "FJSED-JMFGNV"
      }
    },
    {
      "cell_type": "code",
      "source": [
        "x = 3\n",
        "y = 3.0\n",
        "z = 1.2e4\n",
        "inf = float('inf')"
      ],
      "metadata": {
        "id": "Q0VbcdVtFC6M"
      },
      "execution_count": 1,
      "outputs": []
    },
    {
      "cell_type": "code",
      "source": [
        "print (x)"
      ],
      "metadata": {
        "colab": {
          "base_uri": "https://localhost:8080/"
        },
        "id": "_kDWRq3TFJWX",
        "outputId": "1e32fe39-5089-4e84-d257-3641dbf56bdc"
      },
      "execution_count": 2,
      "outputs": [
        {
          "output_type": "stream",
          "name": "stdout",
          "text": [
            "3\n"
          ]
        }
      ]
    },
    {
      "cell_type": "code",
      "source": [
        "print (y)"
      ],
      "metadata": {
        "colab": {
          "base_uri": "https://localhost:8080/"
        },
        "id": "9ozhRWoNFYwV",
        "outputId": "eb427a53-72f5-475d-dbf1-e369881cf326"
      },
      "execution_count": 3,
      "outputs": [
        {
          "output_type": "stream",
          "name": "stdout",
          "text": [
            "3.0\n"
          ]
        }
      ]
    },
    {
      "cell_type": "code",
      "source": [
        "print (int(y))"
      ],
      "metadata": {
        "colab": {
          "base_uri": "https://localhost:8080/"
        },
        "id": "CA7J6X41FcbU",
        "outputId": "a622d7f6-5dfd-4597-8d76-f421c4c855a3"
      },
      "execution_count": 4,
      "outputs": [
        {
          "output_type": "stream",
          "name": "stdout",
          "text": [
            "3\n"
          ]
        }
      ]
    },
    {
      "cell_type": "markdown",
      "source": [
        "1.2 Python numberical calculasions"
      ],
      "metadata": {
        "id": "hpapFEUJFh81"
      }
    },
    {
      "cell_type": "code",
      "source": [
        "r = 3.2\n",
        "r"
      ],
      "metadata": {
        "colab": {
          "base_uri": "https://localhost:8080/"
        },
        "id": "ElcsKXw5FleU",
        "outputId": "6ff78ae2-7b06-4859-876c-8c19868215f1"
      },
      "execution_count": 5,
      "outputs": [
        {
          "output_type": "execute_result",
          "data": {
            "text/plain": [
              "3.2"
            ]
          },
          "metadata": {},
          "execution_count": 5
        }
      ]
    },
    {
      "cell_type": "code",
      "source": [
        "s = int(r)\n",
        "s"
      ],
      "metadata": {
        "colab": {
          "base_uri": "https://localhost:8080/"
        },
        "id": "uMyHiitCFoEk",
        "outputId": "d732d09f-d38f-4da1-d358-ba8b31b7fb51"
      },
      "execution_count": 7,
      "outputs": [
        {
          "output_type": "execute_result",
          "data": {
            "text/plain": [
              "3"
            ]
          },
          "metadata": {},
          "execution_count": 7
        }
      ]
    },
    {
      "cell_type": "code",
      "source": [
        "bool (r)"
      ],
      "metadata": {
        "colab": {
          "base_uri": "https://localhost:8080/"
        },
        "id": "OjZHLvL8FsMN",
        "outputId": "42163918-4bae-4d24-eca2-0e594c3346bc"
      },
      "execution_count": 8,
      "outputs": [
        {
          "output_type": "execute_result",
          "data": {
            "text/plain": [
              "True"
            ]
          },
          "metadata": {},
          "execution_count": 8
        }
      ]
    },
    {
      "cell_type": "code",
      "source": [
        "2+3"
      ],
      "metadata": {
        "colab": {
          "base_uri": "https://localhost:8080/"
        },
        "id": "W0_pNgF7Fynd",
        "outputId": "7f3dd3bd-0f5e-4306-f944-219c0b8bfee0"
      },
      "execution_count": 9,
      "outputs": [
        {
          "output_type": "execute_result",
          "data": {
            "text/plain": [
              "5"
            ]
          },
          "metadata": {},
          "execution_count": 9
        }
      ]
    },
    {
      "cell_type": "code",
      "source": [
        "3*2"
      ],
      "metadata": {
        "colab": {
          "base_uri": "https://localhost:8080/"
        },
        "id": "c05Qm0l1F0pE",
        "outputId": "f5b7f35e-ff02-4b6f-d301-2ab69097c22e"
      },
      "execution_count": 10,
      "outputs": [
        {
          "output_type": "execute_result",
          "data": {
            "text/plain": [
              "6"
            ]
          },
          "metadata": {},
          "execution_count": 10
        }
      ]
    },
    {
      "cell_type": "code",
      "source": [
        "3 ** 2"
      ],
      "metadata": {
        "colab": {
          "base_uri": "https://localhost:8080/"
        },
        "id": "XrFIibpjF3bt",
        "outputId": "86576fb0-2237-4c2b-cea5-42d33c9890bb"
      },
      "execution_count": 11,
      "outputs": [
        {
          "output_type": "execute_result",
          "data": {
            "text/plain": [
              "9"
            ]
          },
          "metadata": {},
          "execution_count": 11
        }
      ]
    },
    {
      "cell_type": "code",
      "source": [
        "# modulus operator\n",
        "7 % 4"
      ],
      "metadata": {
        "colab": {
          "base_uri": "https://localhost:8080/"
        },
        "id": "wnLK-ObAF758",
        "outputId": "396d4679-85c5-410d-a65f-d7d006b5ce69"
      },
      "execution_count": 12,
      "outputs": [
        {
          "output_type": "execute_result",
          "data": {
            "text/plain": [
              "3"
            ]
          },
          "metadata": {},
          "execution_count": 12
        }
      ]
    },
    {
      "cell_type": "code",
      "source": [
        "# question 1\n",
        "7/4"
      ],
      "metadata": {
        "colab": {
          "base_uri": "https://localhost:8080/"
        },
        "id": "nuwNfv8kGBDs",
        "outputId": "ebc1e1b6-169c-4ee2-d9fa-3f16758a18d3"
      },
      "execution_count": 17,
      "outputs": [
        {
          "output_type": "execute_result",
          "data": {
            "text/plain": [
              "1.75"
            ]
          },
          "metadata": {},
          "execution_count": 17
        }
      ]
    },
    {
      "cell_type": "code",
      "source": [
        "7.0/4"
      ],
      "metadata": {
        "colab": {
          "base_uri": "https://localhost:8080/"
        },
        "id": "-F4FKOifGla7",
        "outputId": "b8d5a62d-66a7-49a0-f1fd-dd427fb17eb9"
      },
      "execution_count": 14,
      "outputs": [
        {
          "output_type": "execute_result",
          "data": {
            "text/plain": [
              "1.75"
            ]
          },
          "metadata": {},
          "execution_count": 14
        }
      ]
    },
    {
      "cell_type": "code",
      "source": [
        "7/4.0"
      ],
      "metadata": {
        "colab": {
          "base_uri": "https://localhost:8080/"
        },
        "id": "ahy-REuTGmSn",
        "outputId": "1c191f3a-cbc9-4a7e-d6c6-ec264b856abf"
      },
      "execution_count": 15,
      "outputs": [
        {
          "output_type": "execute_result",
          "data": {
            "text/plain": [
              "1.75"
            ]
          },
          "metadata": {},
          "execution_count": 15
        }
      ]
    },
    {
      "cell_type": "code",
      "source": [
        "# question 2\n",
        "a = 4\n",
        "7/a"
      ],
      "metadata": {
        "colab": {
          "base_uri": "https://localhost:8080/"
        },
        "id": "LUIOu78yGD0j",
        "outputId": "4d8f24ec-e8a8-4af0-9fd3-8011d017d207"
      },
      "execution_count": 16,
      "outputs": [
        {
          "output_type": "execute_result",
          "data": {
            "text/plain": [
              "1.75"
            ]
          },
          "metadata": {},
          "execution_count": 16
        }
      ]
    },
    {
      "cell_type": "code",
      "source": [
        "import math"
      ],
      "metadata": {
        "id": "qWEOhAuzHKHs"
      },
      "execution_count": 18,
      "outputs": []
    },
    {
      "cell_type": "code",
      "source": [
        "math.ceil(3.2)"
      ],
      "metadata": {
        "colab": {
          "base_uri": "https://localhost:8080/"
        },
        "id": "K-QV8FehHPr9",
        "outputId": "5e4c72dc-22af-445e-c085-2f2d372ea8c1"
      },
      "execution_count": 19,
      "outputs": [
        {
          "output_type": "execute_result",
          "data": {
            "text/plain": [
              "4"
            ]
          },
          "metadata": {},
          "execution_count": 19
        }
      ]
    },
    {
      "cell_type": "code",
      "source": [
        "math.floor(3.2)"
      ],
      "metadata": {
        "colab": {
          "base_uri": "https://localhost:8080/"
        },
        "id": "S1GFcE6XHVXD",
        "outputId": "8c2a82b7-9cbd-44b1-ae6d-eed43ae699e1"
      },
      "execution_count": 20,
      "outputs": [
        {
          "output_type": "execute_result",
          "data": {
            "text/plain": [
              "3"
            ]
          },
          "metadata": {},
          "execution_count": 20
        }
      ]
    },
    {
      "cell_type": "code",
      "source": [
        "from math import *"
      ],
      "metadata": {
        "id": "BfMieMKDHaor"
      },
      "execution_count": 21,
      "outputs": []
    },
    {
      "cell_type": "code",
      "source": [
        "ceil(4.2)"
      ],
      "metadata": {
        "colab": {
          "base_uri": "https://localhost:8080/"
        },
        "id": "4VRK8lktHd8z",
        "outputId": "588ebd5d-bd3f-4940-a23e-3fb1eb87af5d"
      },
      "execution_count": 22,
      "outputs": [
        {
          "output_type": "execute_result",
          "data": {
            "text/plain": [
              "5"
            ]
          },
          "metadata": {},
          "execution_count": 22
        }
      ]
    },
    {
      "cell_type": "code",
      "source": [
        "floor(4.2)"
      ],
      "metadata": {
        "colab": {
          "base_uri": "https://localhost:8080/"
        },
        "id": "bktjc7dYHgoT",
        "outputId": "7deb1655-0ba8-4c07-e3b0-989bec69158b"
      },
      "execution_count": 23,
      "outputs": [
        {
          "output_type": "execute_result",
          "data": {
            "text/plain": [
              "4"
            ]
          },
          "metadata": {},
          "execution_count": 23
        }
      ]
    },
    {
      "cell_type": "code",
      "source": [
        "d = [3,4,5]"
      ],
      "metadata": {
        "id": "uTPkXkuUHm5b"
      },
      "execution_count": 24,
      "outputs": []
    },
    {
      "cell_type": "code",
      "source": [
        "d[0]"
      ],
      "metadata": {
        "colab": {
          "base_uri": "https://localhost:8080/"
        },
        "id": "RzGeKiFGHrUt",
        "outputId": "915073e7-d777-47cf-e324-b1b45c894c23"
      },
      "execution_count": 25,
      "outputs": [
        {
          "output_type": "execute_result",
          "data": {
            "text/plain": [
              "3"
            ]
          },
          "metadata": {},
          "execution_count": 25
        }
      ]
    },
    {
      "cell_type": "code",
      "source": [
        "d[2]"
      ],
      "metadata": {
        "colab": {
          "base_uri": "https://localhost:8080/"
        },
        "id": "jv64xSAxHtZj",
        "outputId": "06c453b4-a321-4401-8a95-ed3d9b4bdc77"
      },
      "execution_count": 26,
      "outputs": [
        {
          "output_type": "execute_result",
          "data": {
            "text/plain": [
              "5"
            ]
          },
          "metadata": {},
          "execution_count": 26
        }
      ]
    },
    {
      "cell_type": "markdown",
      "source": [
        "#Appendix"
      ],
      "metadata": {
        "id": "fnfxNFHEHzUY"
      }
    },
    {
      "cell_type": "code",
      "source": [
        "myList = []\n",
        "myList.append(82)\n",
        "print (myList)"
      ],
      "metadata": {
        "colab": {
          "base_uri": "https://localhost:8080/"
        },
        "id": "KYaX4n1uH1sz",
        "outputId": "f489a634-0129-4074-d4e4-dd3cb6fb4bcb"
      },
      "execution_count": 27,
      "outputs": [
        {
          "output_type": "stream",
          "name": "stdout",
          "text": [
            "[82]\n"
          ]
        }
      ]
    },
    {
      "cell_type": "code",
      "source": [
        "myList[0]"
      ],
      "metadata": {
        "colab": {
          "base_uri": "https://localhost:8080/"
        },
        "id": "3g6qlF_tH9B6",
        "outputId": "98803175-71d5-4448-efe2-ba8ec387d863"
      },
      "execution_count": 28,
      "outputs": [
        {
          "output_type": "execute_result",
          "data": {
            "text/plain": [
              "82"
            ]
          },
          "metadata": {},
          "execution_count": 28
        }
      ]
    },
    {
      "cell_type": "code",
      "source": [
        "myList.append('Bulls')\n",
        "print(myList)"
      ],
      "metadata": {
        "colab": {
          "base_uri": "https://localhost:8080/"
        },
        "id": "r3-X9VzMIAhT",
        "outputId": "ee072395-b5dc-44c9-ee22-25a8779ba4cd"
      },
      "execution_count": 29,
      "outputs": [
        {
          "output_type": "stream",
          "name": "stdout",
          "text": [
            "[82, 'Bulls']\n"
          ]
        }
      ]
    },
    {
      "cell_type": "code",
      "source": [
        "myList = [3, 9.2, 'Bus', '9.2', 1.3e4]\n",
        "myList.remove(9.2)\n",
        "print(myList)"
      ],
      "metadata": {
        "colab": {
          "base_uri": "https://localhost:8080/"
        },
        "id": "JF5v1-4lIJm6",
        "outputId": "2fadce51-8fee-4ea8-ef44-8c4e3c6915b5"
      },
      "execution_count": 30,
      "outputs": [
        {
          "output_type": "stream",
          "name": "stdout",
          "text": [
            "[3, 'Bus', '9.2', 13000.0]\n"
          ]
        }
      ]
    },
    {
      "cell_type": "code",
      "source": [
        "u = [[1, 2], 3, [4], [5,[6,7,8]]]\n",
        "u[0]"
      ],
      "metadata": {
        "colab": {
          "base_uri": "https://localhost:8080/"
        },
        "id": "dWkdGnkpIa56",
        "outputId": "cc5f1f9b-a1a1-4bff-da54-06ca6ce74d6c"
      },
      "execution_count": 31,
      "outputs": [
        {
          "output_type": "execute_result",
          "data": {
            "text/plain": [
              "[1, 2]"
            ]
          },
          "metadata": {},
          "execution_count": 31
        }
      ]
    },
    {
      "cell_type": "code",
      "source": [
        "#question\n",
        "u[1]"
      ],
      "metadata": {
        "colab": {
          "base_uri": "https://localhost:8080/"
        },
        "id": "PCER4lN7IqMa",
        "outputId": "fd45a01a-c479-4328-ebbe-7920af6fc31e"
      },
      "execution_count": 32,
      "outputs": [
        {
          "output_type": "execute_result",
          "data": {
            "text/plain": [
              "3"
            ]
          },
          "metadata": {},
          "execution_count": 32
        }
      ]
    },
    {
      "cell_type": "code",
      "source": [
        "u[2]"
      ],
      "metadata": {
        "colab": {
          "base_uri": "https://localhost:8080/"
        },
        "id": "khg7fq3jI4lJ",
        "outputId": "e63e5b61-893f-4160-fc11-51321c2b6600"
      },
      "execution_count": 33,
      "outputs": [
        {
          "output_type": "execute_result",
          "data": {
            "text/plain": [
              "[4]"
            ]
          },
          "metadata": {},
          "execution_count": 33
        }
      ]
    },
    {
      "cell_type": "code",
      "source": [
        "u[3][1]"
      ],
      "metadata": {
        "colab": {
          "base_uri": "https://localhost:8080/"
        },
        "id": "Be68IwbRI5bM",
        "outputId": "8a471ff6-4f2b-404a-a24c-74ab0679551c"
      },
      "execution_count": 34,
      "outputs": [
        {
          "output_type": "execute_result",
          "data": {
            "text/plain": [
              "[6, 7, 8]"
            ]
          },
          "metadata": {},
          "execution_count": 34
        }
      ]
    },
    {
      "cell_type": "code",
      "source": [
        "u[3][1][2]"
      ],
      "metadata": {
        "colab": {
          "base_uri": "https://localhost:8080/"
        },
        "id": "hZbI-1uMI7zJ",
        "outputId": "741bb76b-d88e-4a01-af56-3fba2cd6506e"
      },
      "execution_count": 35,
      "outputs": [
        {
          "output_type": "execute_result",
          "data": {
            "text/plain": [
              "8"
            ]
          },
          "metadata": {},
          "execution_count": 35
        }
      ]
    },
    {
      "cell_type": "code",
      "source": [
        "d = [[],4,5]\n",
        "myMin = float ('inf')\n",
        "myMax = -float('inf')\n",
        "for val in d:\n",
        "  if (type (val) in [int, float]):\n",
        "    myMin = min (myMin, val)\n",
        "    myMax = max (myMax, val)\n",
        "print (myMin, myMax)"
      ],
      "metadata": {
        "colab": {
          "base_uri": "https://localhost:8080/"
        },
        "id": "OzLYnKC9KSXs",
        "outputId": "07742040-91f3-41ea-d328-9c9c4a61ffe0"
      },
      "execution_count": 36,
      "outputs": [
        {
          "output_type": "stream",
          "name": "stdout",
          "text": [
            "4 5\n"
          ]
        }
      ]
    },
    {
      "cell_type": "code",
      "source": [
        "myDictionary = { 'color':'blue', 'age': 87, 'anArray':[3,5,7] }\n",
        "myDictionary"
      ],
      "metadata": {
        "colab": {
          "base_uri": "https://localhost:8080/"
        },
        "id": "5rayaUtKK3d6",
        "outputId": "dbb0874f-edb2-4598-c37a-2c97fdd95258"
      },
      "execution_count": 37,
      "outputs": [
        {
          "output_type": "execute_result",
          "data": {
            "text/plain": [
              "{'color': 'blue', 'age': 87, 'anArray': [3, 5, 7]}"
            ]
          },
          "metadata": {},
          "execution_count": 37
        }
      ]
    },
    {
      "cell_type": "code",
      "source": [
        "myDictionary.update({'velocity':32.8})\n",
        "myDictionary"
      ],
      "metadata": {
        "colab": {
          "base_uri": "https://localhost:8080/"
        },
        "id": "5a2mkqRILKpp",
        "outputId": "6760f9b8-8754-43a8-ee9e-af7098fd20c0"
      },
      "execution_count": 39,
      "outputs": [
        {
          "output_type": "execute_result",
          "data": {
            "text/plain": [
              "{'color': 'blue', 'age': 87, 'anArray': [3, 5, 7], 'velocity': 32.8}"
            ]
          },
          "metadata": {},
          "execution_count": 39
        }
      ]
    },
    {
      "cell_type": "code",
      "source": [
        "del myDictionary['color']\n",
        "myDictionary"
      ],
      "metadata": {
        "colab": {
          "base_uri": "https://localhost:8080/"
        },
        "id": "YVBhGz1rLV-w",
        "outputId": "36a51559-7bf1-41b4-e8c5-8454cb86c3d3"
      },
      "execution_count": 40,
      "outputs": [
        {
          "output_type": "execute_result",
          "data": {
            "text/plain": [
              "{'age': 87, 'anArray': [3, 5, 7], 'velocity': 32.8}"
            ]
          },
          "metadata": {},
          "execution_count": 40
        }
      ]
    },
    {
      "cell_type": "code",
      "source": [
        "mySet = { 1, 99, 'purple' , 3.14}\n",
        "mySet"
      ],
      "metadata": {
        "colab": {
          "base_uri": "https://localhost:8080/"
        },
        "id": "14aXZGkBLb56",
        "outputId": "d34f6e7b-aecc-48b5-dece-325e5da3b9d1"
      },
      "execution_count": 41,
      "outputs": [
        {
          "output_type": "execute_result",
          "data": {
            "text/plain": [
              "{1, 3.14, 99, 'purple'}"
            ]
          },
          "metadata": {},
          "execution_count": 41
        }
      ]
    },
    {
      "cell_type": "code",
      "source": [
        "#find the union of a two sets\n",
        "mySet\n",
        "myOtherSet = { 22, 99, 'purple', 'yellow'}\n",
        "mySet.union(myOtherSet)"
      ],
      "metadata": {
        "colab": {
          "base_uri": "https://localhost:8080/"
        },
        "id": "YYc-5tt2LmJs",
        "outputId": "797d1fe5-2ea9-4660-e1c1-77e890c3650e"
      },
      "execution_count": 44,
      "outputs": [
        {
          "output_type": "execute_result",
          "data": {
            "text/plain": [
              "{1, 22, 3.14, 99, 'purple', 'yellow'}"
            ]
          },
          "metadata": {},
          "execution_count": 44
        }
      ]
    },
    {
      "cell_type": "code",
      "source": [
        "#exercise\n",
        "x = 1/3.0\n",
        "y = 7\n",
        "z = 'hi'\n",
        "\n",
        "print(\"The value of x is\" ,x)\n"
      ],
      "metadata": {
        "colab": {
          "base_uri": "https://localhost:8080/"
        },
        "id": "SguAtqx6MAop",
        "outputId": "1f139674-2014-46c1-ed97-5ffe703649c1"
      },
      "execution_count": 47,
      "outputs": [
        {
          "output_type": "stream",
          "name": "stdout",
          "text": [
            "The value of x is 0.3333333333333333\n"
          ]
        }
      ]
    },
    {
      "cell_type": "code",
      "source": [
        "print(\"x= %f\" % (x))\n",
        "print(\"x = %.2f\" % (x))\n",
        "print('x = %.3f, y =%d, z = %s' % (x, y, z))\n",
        "print('x= ', x , 'y = ', y, 'z=', z)"
      ],
      "metadata": {
        "colab": {
          "base_uri": "https://localhost:8080/"
        },
        "id": "deIty-JaMwRh",
        "outputId": "2a69d0e5-bad0-48bc-bb22-d5d477f31c36"
      },
      "execution_count": 46,
      "outputs": [
        {
          "output_type": "stream",
          "name": "stdout",
          "text": [
            "x= 0.333333\n",
            "x = 0.33\n",
            "x = 0.333, y =7, z = hi\n",
            "x=  0.3333333333333333 y =  7 z= hi\n"
          ]
        }
      ]
    }
  ]
}